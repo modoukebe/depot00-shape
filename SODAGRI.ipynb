{
  "nbformat": 4,
  "nbformat_minor": 0,
  "metadata": {
    "colab": {
      "name": "SODAGRI.ipynb",
      "provenance": [],
      "authorship_tag": "ABX9TyOGmaaMND01TIFKO6OP3fo4",
      "include_colab_link": true
    },
    "kernelspec": {
      "name": "python3",
      "display_name": "Python 3"
    },
    "language_info": {
      "name": "python"
    }
  },
  "cells": [
    {
      "cell_type": "markdown",
      "metadata": {
        "id": "view-in-github",
        "colab_type": "text"
      },
      "source": [
        "<a href=\"https://colab.research.google.com/github/modoukebe/depot00-shape/blob/main/SODAGRI.ipynb\" target=\"_parent\"><img src=\"https://colab.research.google.com/assets/colab-badge.svg\" alt=\"Open In Colab\"/></a>"
      ]
    },
    {
      "cell_type": "markdown",
      "metadata": {
        "id": "Sn1N2OF5qty9"
      },
      "source": [
        "<table>\n",
        "<table class=\"ee-notebook-buttons\" align=\"left\">\n",
        "   <td><img width=120px src=\"sodagri_logo.jpg\" /></td>\n",
        "<table class=\"ee-notebook-buttons\" align=\"right\">\n",
        "   <td> <img width=120px src=\"LTA.jpg\"></td>\n",
        "<font size=\"+2.5\" color=pink><b> <center><u> PLATEFORME DE SUIVI DES CULTURES DE RIZ </u></center></b></font>\n",
        "</table>"
      ]
    },
    {
      "cell_type": "code",
      "metadata": {
        "id": "qkAQbsOdqkvW"
      },
      "source": [
        "# Check geemap installation\n",
        "import subprocess\n",
        "\n",
        "try:\n",
        "    import geemap\n",
        "except ImportError:\n",
        "    print('geemap package is not installed. Installing ...')\n",
        "    subprocess.check_call([\"python\", '-m', 'pip', 'install', 'geemap'])"
      ],
      "execution_count": null,
      "outputs": []
    },
    {
      "cell_type": "code",
      "metadata": {
        "id": "PkFqQVU6q6Me"
      },
      "source": [
        "# Import libraries\n",
        "import os\n",
        "import ee\n",
        "import geemap\n",
        "import ipywidgets as widgets\n",
        "from bqplot import pyplot as plt\n",
        "from ipyleaflet import WidgetControl\n",
        "import folium\n",
        "import geopandas as gpd"
      ],
      "execution_count": null,
      "outputs": []
    },
    {
      "cell_type": "code",
      "metadata": {
        "id": "1P86QdYGq6rN"
      },
      "source": [
        "import ee\n",
        "from google.oauth2.credentials import Credentials\n",
        "user_secret = \"earth_engine\" # Your user secret, defined in the add-on menu of the notebook editor\n",
        "refresh_token = \"1//05vucBuiE2mIhCgYIARAAGAUSNwF-L9Ir212YgWEvqVX54eoEETXtaXpO8b3bUjYzN25XJziKStXqx7H_3_KgXNLnyni3u5Bx2fk\"\n",
        "credentials = Credentials(\n",
        "       None,\n",
        "       refresh_token=refresh_token,\n",
        "       token_uri=ee.oauth.TOKEN_URI,\n",
        "       client_id=ee.oauth.CLIENT_ID,\n",
        "       client_secret=ee.oauth.CLIENT_SECRET,\n",
        "       scopes=ee.oauth.SCOPES)\n",
        "ee.Initialize(credentials=credentials)"
      ],
      "execution_count": null,
      "outputs": []
    },
    {
      "cell_type": "code",
      "metadata": {
        "id": "7-iisftpxCmS"
      },
      "source": [
        "Map = geemap.Map(center=[14.499454, -14.445561499999997], zoom=8, add_google_map=False)\n",
        "Map.add_basemap('HYBRID')\n",
        "Map.add_basemap('ROADMAP')\n",
        "\n",
        "shape_reg = gpd.read_file(\"/content/drive/MyDrive/Shape/sn_region_pol.shp\")\n",
        "folium.GeoJson(data=shape_reg[\"geometry\"]).add_to(Map)\n",
        "\n",
        "shape_dept = gpd.read_file(\"/content/drive/MyDrive/Shape/sn_departmt_pol.shp\")\n",
        "folium.GeoJson(data=shape_dept[\"geometry\"]).add_to(Map)\n",
        "\n",
        "shape_com = gpd.read_file(\"/content/drive/MyDrive/Shape/sn_com_rurale_pol.shp\")\n",
        "folium.GeoJson(data=shape_com[\"geometry\"]).add_to(Map)\n",
        "\n",
        "shape_amngt = gpd.read_file(\"/content/drive/MyDrive/Shape/Aménagements.shp\")\n",
        "folium.GeoJson(data=shape_amngt[\"geometry\"]).add_to(Map)\n",
        "\n",
        "Map"
      ],
      "execution_count": null,
      "outputs": []
    }
  ]
}