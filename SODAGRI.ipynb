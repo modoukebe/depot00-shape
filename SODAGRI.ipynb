{
 "cells": [
  {
   "cell_type": "markdown",
   "metadata": {},
   "source": [
    "<table>\n",
    "<table class=\"ee-notebook-buttons\" align=\"left\">\n",
    "   <td><img width=120px src=\"https://github.com/modoukebe/depot00-shape/blob/main/sodagri_logo.jpg?raw=1\" /></td>\n",
    "<table class=\"ee-notebook-buttons\" align=\"right\">\n",
    "   <td> <img width=120px src=\"https://github.com/modoukebe/depot00-shape/blob/main/LTA.jpg?raw=1\"></td>\n",
    "<font size=\"+2.5\" color=pink><b> <center><u> PLATEFORME DE SUIVI DES CULTURES DE RIZ </u></center></b></font>\n",
    "</table>"
   ]
  },
  {
   "cell_type": "code",
   "execution_count": 2,
   "metadata": {},
   "outputs": [],
   "source": [
    "# Check geemap installation\n",
    "import subprocess\n",
    "\n",
    "try:\n",
    "    import geemap\n",
    "except ImportError:\n",
    "    print('geemap package is not installed. Installing ...')\n",
    "    subprocess.check_call([\"python\", '-m', 'pip', 'install', 'geemap'])"
   ]
  },
  {
   "cell_type": "code",
   "execution_count": 3,
   "metadata": {},
   "outputs": [],
   "source": [
    "# Import libraries\n",
    "import os\n",
    "import ee\n",
    "import geemap\n",
    "import ipywidgets as widgets\n",
    "from bqplot import pyplot as plt\n",
    "from ipyleaflet import Map, basemaps, WidgetControl"
   ]
  },
  {
   "cell_type": "code",
   "execution_count": 4,
   "metadata": {},
   "outputs": [],
   "source": [
    "import ee\n",
    "from google.oauth2.credentials import Credentials\n",
    "user_secret = \"earth_engine\" # Your user secret, defined in the add-on menu of the notebook editor\n",
    "refresh_token = \"1//05vucBuiE2mIhCgYIARAAGAUSNwF-L9Ir212YgWEvqVX54eoEETXtaXpO8b3bUjYzN25XJziKStXqx7H_3_KgXNLnyni3u5Bx2fk\"\n",
    "credentials = Credentials(\n",
    "       None,\n",
    "       refresh_token=refresh_token,\n",
    "       token_uri=ee.oauth.TOKEN_URI,\n",
    "       client_id=ee.oauth.CLIENT_ID,\n",
    "       client_secret=ee.oauth.CLIENT_SECRET,\n",
    "       scopes=ee.oauth.SCOPES)\n",
    "ee.Initialize(credentials=credentials)"
   ]
  },
  {
   "cell_type": "code",
   "execution_count": 5,
   "metadata": {
    "scrolled": false
   },
   "outputs": [
    {
     "data": {
      "application/vnd.jupyter.widget-view+json": {
       "model_id": "e311a21c5ac04230be8b4bafcbd7bfb8",
       "version_major": 2,
       "version_minor": 0
      },
      "text/plain": [
       "Map(center=[14.499454, -14.445561499999997], controls=(WidgetControl(options=['position'], widget=HBox(childre…"
      ]
     },
     "metadata": {},
     "output_type": "display_data"
    }
   ],
   "source": [
    "Map = geemap.Map(center=[14.499454, -14.445561499999997], zoom=8, add_google_map=False)\n",
    "\n",
    "reg = 'sn_region_pol_gcs.shp'\n",
    "regfc = geemap.shp_to_ee(reg)\n",
    "Map.addLayer(regfc, {}, 'REGION')\n",
    "\n",
    "dep = 'sn_departmt_pol_gcs.shp'\n",
    "states = geemap.shp_to_ee(dep)\n",
    "Map.addLayer(states, {}, 'DEPARTEMENT')\n",
    "\n",
    "com = 'sn_com_rurale_pol_gcs.shp'\n",
    "fc = geemap.shp_to_ee(com)\n",
    "Map.addLayer(fc, {}, 'COMMUNE')\n",
    "\n",
    "am = 'Aménagements.shp'\n",
    "amfc = geemap.shp_to_ee(am)\n",
    "Map.addLayer(amfc, {}, 'AMENAGEMENTS')\n",
    "\n",
    "\n",
    "Map"
   ]
  },
  {
   "cell_type": "code",
   "execution_count": 6,
   "metadata": {},
   "outputs": [
    {
     "data": {
      "application/vnd.jupyter.widget-view+json": {
       "model_id": "7f65a4a6b175420b950016300c429cba",
       "version_major": 2,
       "version_minor": 0
      },
      "text/plain": [
       "VBox(children=(HBox(children=(Text(value='DAkar', description='région:', style=DescriptionStyle(description_wi…"
      ]
     },
     "metadata": {},
     "output_type": "display_data"
    }
   ],
   "source": [
    "# Designe interactive widgets\n",
    "\n",
    "style = {'description_width': 'initial'}\n",
    "\n",
    "output_widget = widgets.Output(layout={'border': '1px solid black'})\n",
    "output_control = WidgetControl(widget=output_widget, position='bottomright')\n",
    "Map.add_control(output_control)\n",
    "\n",
    "admin1_widget = widgets.Text(\n",
    "    description='région:',\n",
    "    value='DAkar',\n",
    "    width=200,\n",
    "    style=style\n",
    ")\n",
    "\n",
    "admin2_widget = widgets.Text(\n",
    "    description='département:',\n",
    "    value='Dakar',\n",
    "    width=200,\n",
    "    style=style\n",
    ")\n",
    "\n",
    "admin3_widget = widgets.Text(\n",
    "    description='commune:',\n",
    "    value='Dakar',\n",
    "    width=200,\n",
    "    style=style\n",
    ")\n",
    "\n",
    "admin4_widget = widgets.Text(\n",
    "    description='Aménagement:',\n",
    "    value='10',\n",
    "    width=300,\n",
    "    style=style\n",
    ")\n",
    "\n",
    "band_combo = widgets.Dropdown(\n",
    "    description='Champs:',\n",
    "    options=['Red/Green/Blue', 'NIR/Red/Green',  'SWIR2/SWIR1/NIR', 'NIR/SWIR1/Red','SWIR2/NIR/Red', \n",
    "             'SWIR2/SWIR1/Red', 'SWIR1/NIR/Blue', 'NIR/SWIR1/Blue', 'SWIR2/NIR/Green', 'SWIR1/NIR/Red'],\n",
    "    value='NIR/Red/Green',\n",
    "    style=style\n",
    ")\n",
    "\n",
    "nd_options = ['Vegetation Index (NDVI)', \n",
    "              'Water Index (NDWI)',\n",
    "              'Modified Water Index (MNDWI)',\n",
    "              'Snow Index (NDSI)',\n",
    "              'Soil Index (NDSI)',\n",
    "              'Burn Ratio (NBR)',\n",
    "              'Customized']\n",
    "nd_indices = widgets.Dropdown(options=nd_options, value='Modified Water Index (MNDWI)', description='Indices:', style=style)\n",
    "\n",
    "submit = widgets.Button(\n",
    "    description='Submit',\n",
    "    button_style='primary',\n",
    "    tooltip='Click me',\n",
    "    style=style\n",
    ")\n",
    "\n",
    "full_widget = widgets.VBox([\n",
    "    widgets.HBox([admin1_widget, admin2_widget, admin3_widget, admin4_widget]),\n",
    "    widgets.HBox([band_combo, nd_indices]),\n",
    "    submit\n",
    "])\n",
    "\n",
    "full_widget"
   ]
  },
  {
   "cell_type": "code",
   "execution_count": 7,
   "metadata": {},
   "outputs": [],
   "source": [
    "# Capture user interaction with the map\n",
    "\n",
    "def handle_interaction(**kwargs):\n",
    "    latlon = kwargs.get('coordinates')\n",
    "    if kwargs.get('type') == 'click':\n",
    "        Map.default_style = {'cursor': 'wait'}\n",
    "        xy = ee.Geometry.Point(latlon[::-1])\n",
    "        selected_fc = fc.filterBounds(xy)\n",
    "        \n",
    "        with output_widget:\n",
    "            output_widget.clear_output()\n",
    "        \n",
    "            try:\n",
    "                feature = selected_fc.first()\n",
    "                admin1_id = feature.get('Region').getInfo()\n",
    "                \n",
    "                admin2_id = feature.get('Departemen').getInfo()\n",
    "                admin3_id = feature.get('Nomcollect').getInfo()\n",
    "                admin4_id = feature.get('OREG_1').getInfo()\n",
    "                \n",
    "                #admin1_fc = ee.Feature(states.filter(ee.Filter.eq('STATEFP', statefp)).first())                \n",
    "                #admin1_id = admin1_fc.get('NAME').getInfo()\n",
    "                admin1_widget.value = admin1_id\n",
    "                admin2_widget.value = admin2_id\n",
    "                admin3_widget.value = admin3_id\n",
    "                admin4_widget.value = admin4_id\n",
    "                Map.layers = Map.layers[:4]        \n",
    "                geom = selected_fc.geometry()\n",
    "                layer_name = admin1_id + '-' + admin2_id + '-' + admin3_id + '-' + admin4_id\n",
    "                Map.addLayer(ee.Image().paint(geom, 0, 2), {'palette': 'red'}, layer_name)  \n",
    "                print(layer_name)\n",
    "            except:\n",
    "                print('No feature could be found')\n",
    "                Map.layers = Map.layers[:4]        \n",
    "            \n",
    "        Map.default_style = {'cursor': 'pointer'}\n",
    "    else:\n",
    "        Map.draw_count = 0\n",
    "\n",
    "Map.on_interaction(handle_interaction)"
   ]
  },
  {
   "cell_type": "code",
   "execution_count": null,
   "metadata": {},
   "outputs": [],
   "source": []
  }
 ],
 "metadata": {
  "kernelspec": {
   "display_name": "Python 3",
   "language": "python",
   "name": "python3"
  },
  "language_info": {
   "codemirror_mode": {
    "name": "ipython",
    "version": 3
   },
   "file_extension": ".py",
   "mimetype": "text/x-python",
   "name": "python",
   "nbconvert_exporter": "python",
   "pygments_lexer": "ipython3",
   "version": "3.8.5"
  }
 },
 "nbformat": 4,
 "nbformat_minor": 4
}
